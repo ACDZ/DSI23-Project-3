{
 "cells": [
  {
   "cell_type": "markdown",
   "id": "06a7be79",
   "metadata": {},
   "source": [
    "# Modelling"
   ]
  },
  {
   "cell_type": "code",
   "execution_count": null,
   "id": "65fec795",
   "metadata": {},
   "outputs": [],
   "source": [
    "# importing libraries\n",
    "import pandas as pd\n",
    "import numpy as np\n",
    "import re\n",
    "import string\n",
    "import nltk\n",
    "import seaborn as sns\n",
    "import matplotlib.pyplot as plt\n",
    "from sklearn.feature_extraction.text import CountVectorizer\n",
    "from sklearn.feature_extraction.text import TfidfVectorizer\n",
    "from wordcloud import WordCloud, STOPWORDS, ImageColorGenerator\n",
    "from sklearn.preprocessing import StandardScaler\n",
    "from sklearn.neighbors import KNeighborsClassifier\n",
    "from sklearn.model_selection import train_test_split\n",
    "from sklearn.metrics import confusion_matrix\n",
    "from sklearn.metrics import classification_report"
   ]
  },
  {
   "cell_type": "code",
   "execution_count": null,
   "id": "70a65505",
   "metadata": {},
   "outputs": [],
   "source": [
    "# reading in csv files\n",
    "df = pd.read_csv('../data/count_v_1.csv')"
   ]
  },
  {
   "cell_type": "code",
   "execution_count": null,
   "id": "b9ab485b",
   "metadata": {},
   "outputs": [],
   "source": [
    "df.head(2)"
   ]
  },
  {
   "cell_type": "code",
   "execution_count": null,
   "id": "961c6efd",
   "metadata": {},
   "outputs": [],
   "source": [
    "df.drop(labels=[\"Unnamed: 0\"], axis=1, inplace=True)"
   ]
  },
  {
   "cell_type": "code",
   "execution_count": null,
   "id": "5e957a25",
   "metadata": {},
   "outputs": [],
   "source": [
    "features = [col for col in df._get_numeric_data().columns if col != 'subreddit_encoded']"
   ]
  },
  {
   "cell_type": "code",
   "execution_count": null,
   "id": "727e0a6e",
   "metadata": {},
   "outputs": [],
   "source": [
    "X = df[features]\n",
    "y = df['subreddit_encoded']"
   ]
  },
  {
   "cell_type": "code",
   "execution_count": null,
   "id": "bf2532f7",
   "metadata": {},
   "outputs": [],
   "source": [
    "X_train, X_test, y_train, y_test = train_test_split(X, y, test_size=0.2, stratify=X)"
   ]
  },
  {
   "cell_type": "code",
   "execution_count": null,
   "id": "08dd4bdd",
   "metadata": {},
   "outputs": [],
   "source": []
  }
 ],
 "metadata": {
  "kernelspec": {
   "display_name": "Python 3",
   "language": "python",
   "name": "python3"
  },
  "language_info": {
   "codemirror_mode": {
    "name": "ipython",
    "version": 3
   },
   "file_extension": ".py",
   "mimetype": "text/x-python",
   "name": "python",
   "nbconvert_exporter": "python",
   "pygments_lexer": "ipython3",
   "version": "3.8.8"
  }
 },
 "nbformat": 4,
 "nbformat_minor": 5
}
