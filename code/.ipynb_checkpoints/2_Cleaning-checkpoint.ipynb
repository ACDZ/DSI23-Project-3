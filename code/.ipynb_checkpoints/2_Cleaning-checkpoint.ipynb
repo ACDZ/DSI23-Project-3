{
 "cells": [
  {
   "cell_type": "markdown",
   "id": "d9a4e441",
   "metadata": {},
   "source": [
    "# Cleaning"
   ]
  },
  {
   "cell_type": "markdown",
   "id": "aa2002c2",
   "metadata": {},
   "source": [
    "#### 1. Importing required library"
   ]
  },
  {
   "cell_type": "code",
   "execution_count": 1,
   "id": "fb9bff22",
   "metadata": {},
   "outputs": [],
   "source": [
    "# importing libraries\n",
    "import pandas as pd"
   ]
  },
  {
   "cell_type": "markdown",
   "id": "558a3b06",
   "metadata": {},
   "source": [
    "#### 2. Reading csv files"
   ]
  },
  {
   "cell_type": "code",
   "execution_count": 2,
   "id": "8988a74b",
   "metadata": {},
   "outputs": [
    {
     "name": "stderr",
     "output_type": "stream",
     "text": [
      "/Users/as/opt/anaconda3/lib/python3.8/site-packages/IPython/core/interactiveshell.py:3165: DtypeWarning: Columns (0,1,4,6,8,9,10,11,12,16,17,19,20,21,22,23,24,25,27,28,29,30,32,33,35,36,37,41,43,48,49,54,55,61,64,65,67,68,69,72,74,79,80,81,83,86,87,88,89,94,95) have mixed types.Specify dtype option on import or set low_memory=False.\n",
      "  has_raised = await self.run_ast_nodes(code_ast.body, cell_name,\n",
      "/Users/as/opt/anaconda3/lib/python3.8/site-packages/IPython/core/interactiveshell.py:3165: DtypeWarning: Columns (0,1,4,6,8,9,10,11,12,16,18,19,20,21,22,23,25,26,27,28,29,30,31,32,33,34,35,39,41,46,47,52,56,59,61,64,65,66,67,68,69,70,71,72,73,74,80,81,82,83,84,87,88,89,94,95) have mixed types.Specify dtype option on import or set low_memory=False.\n",
      "  has_raised = await self.run_ast_nodes(code_ast.body, cell_name,\n"
     ]
    }
   ],
   "source": [
    "# reading csv files\n",
    "dfamd = pd.read_csv('../data/amd.csv')\n",
    "dfnvidia = pd.read_csv('../data/nvidia.csv')"
   ]
  },
  {
   "cell_type": "code",
   "execution_count": 3,
   "id": "38677344",
   "metadata": {},
   "outputs": [
    {
     "data": {
      "text/html": [
       "<div>\n",
       "<style scoped>\n",
       "    .dataframe tbody tr th:only-of-type {\n",
       "        vertical-align: middle;\n",
       "    }\n",
       "\n",
       "    .dataframe tbody tr th {\n",
       "        vertical-align: top;\n",
       "    }\n",
       "\n",
       "    .dataframe thead th {\n",
       "        text-align: right;\n",
       "    }\n",
       "</style>\n",
       "<table border=\"1\" class=\"dataframe\">\n",
       "  <thead>\n",
       "    <tr style=\"text-align: right;\">\n",
       "      <th></th>\n",
       "      <th>all_awardings</th>\n",
       "      <th>allow_live_comments</th>\n",
       "      <th>author</th>\n",
       "      <th>author_flair_css_class</th>\n",
       "      <th>author_flair_richtext</th>\n",
       "      <th>author_flair_text</th>\n",
       "      <th>author_flair_type</th>\n",
       "      <th>author_fullname</th>\n",
       "      <th>author_patreon_flair</th>\n",
       "      <th>author_premium</th>\n",
       "      <th>...</th>\n",
       "      <th>rte_mode</th>\n",
       "      <th>brand_safe</th>\n",
       "      <th>previous_visits</th>\n",
       "      <th>approved_at_utc</th>\n",
       "      <th>author_created_utc</th>\n",
       "      <th>banned_at_utc</th>\n",
       "      <th>distinguished</th>\n",
       "      <th>mod_reports</th>\n",
       "      <th>user_reports</th>\n",
       "      <th>timestamp</th>\n",
       "    </tr>\n",
       "  </thead>\n",
       "  <tbody>\n",
       "    <tr>\n",
       "      <th>0</th>\n",
       "      <td>[]</td>\n",
       "      <td>False</td>\n",
       "      <td>TheHillxer</td>\n",
       "      <td>NaN</td>\n",
       "      <td>[]</td>\n",
       "      <td>NaN</td>\n",
       "      <td>text</td>\n",
       "      <td>t2_a13bii2l</td>\n",
       "      <td>False</td>\n",
       "      <td>False</td>\n",
       "      <td>...</td>\n",
       "      <td>NaN</td>\n",
       "      <td>NaN</td>\n",
       "      <td>NaN</td>\n",
       "      <td>NaN</td>\n",
       "      <td>NaN</td>\n",
       "      <td>NaN</td>\n",
       "      <td>NaN</td>\n",
       "      <td>NaN</td>\n",
       "      <td>NaN</td>\n",
       "      <td>2021-06-27</td>\n",
       "    </tr>\n",
       "    <tr>\n",
       "      <th>1</th>\n",
       "      <td>[]</td>\n",
       "      <td>False</td>\n",
       "      <td>TheHillxer</td>\n",
       "      <td>NaN</td>\n",
       "      <td>[]</td>\n",
       "      <td>NaN</td>\n",
       "      <td>text</td>\n",
       "      <td>t2_a13bii2l</td>\n",
       "      <td>False</td>\n",
       "      <td>True</td>\n",
       "      <td>...</td>\n",
       "      <td>NaN</td>\n",
       "      <td>NaN</td>\n",
       "      <td>NaN</td>\n",
       "      <td>NaN</td>\n",
       "      <td>NaN</td>\n",
       "      <td>NaN</td>\n",
       "      <td>NaN</td>\n",
       "      <td>NaN</td>\n",
       "      <td>NaN</td>\n",
       "      <td>2021-06-27</td>\n",
       "    </tr>\n",
       "    <tr>\n",
       "      <th>2</th>\n",
       "      <td>[]</td>\n",
       "      <td>False</td>\n",
       "      <td>noobtablet9</td>\n",
       "      <td>NaN</td>\n",
       "      <td>[]</td>\n",
       "      <td>NaN</td>\n",
       "      <td>text</td>\n",
       "      <td>t2_gkzy0</td>\n",
       "      <td>False</td>\n",
       "      <td>False</td>\n",
       "      <td>...</td>\n",
       "      <td>NaN</td>\n",
       "      <td>NaN</td>\n",
       "      <td>NaN</td>\n",
       "      <td>NaN</td>\n",
       "      <td>NaN</td>\n",
       "      <td>NaN</td>\n",
       "      <td>NaN</td>\n",
       "      <td>NaN</td>\n",
       "      <td>NaN</td>\n",
       "      <td>2021-06-27</td>\n",
       "    </tr>\n",
       "  </tbody>\n",
       "</table>\n",
       "<p>3 rows × 97 columns</p>\n",
       "</div>"
      ],
      "text/plain": [
       "  all_awardings allow_live_comments       author author_flair_css_class  \\\n",
       "0            []               False   TheHillxer                    NaN   \n",
       "1            []               False   TheHillxer                    NaN   \n",
       "2            []               False  noobtablet9                    NaN   \n",
       "\n",
       "  author_flair_richtext author_flair_text author_flair_type author_fullname  \\\n",
       "0                    []               NaN              text     t2_a13bii2l   \n",
       "1                    []               NaN              text     t2_a13bii2l   \n",
       "2                    []               NaN              text        t2_gkzy0   \n",
       "\n",
       "  author_patreon_flair author_premium  ... rte_mode brand_safe  \\\n",
       "0                False          False  ...      NaN        NaN   \n",
       "1                False           True  ...      NaN        NaN   \n",
       "2                False          False  ...      NaN        NaN   \n",
       "\n",
       "  previous_visits  approved_at_utc author_created_utc banned_at_utc  \\\n",
       "0             NaN              NaN                NaN           NaN   \n",
       "1             NaN              NaN                NaN           NaN   \n",
       "2             NaN              NaN                NaN           NaN   \n",
       "\n",
       "  distinguished mod_reports user_reports   timestamp  \n",
       "0           NaN         NaN          NaN  2021-06-27  \n",
       "1           NaN         NaN          NaN  2021-06-27  \n",
       "2           NaN         NaN          NaN  2021-06-27  \n",
       "\n",
       "[3 rows x 97 columns]"
      ]
     },
     "execution_count": 3,
     "metadata": {},
     "output_type": "execute_result"
    }
   ],
   "source": [
    "# checking df content\n",
    "dfamd.head(3)"
   ]
  },
  {
   "cell_type": "markdown",
   "id": "5863c296",
   "metadata": {},
   "source": [
    "#### 3. Cleaning of data"
   ]
  },
  {
   "cell_type": "code",
   "execution_count": 4,
   "id": "30e6f4e0",
   "metadata": {},
   "outputs": [],
   "source": [
    "#narrowing down variables\n",
    "subfields = ['title', 'selftext', 'subreddit', 'created_utc', 'author', 'num_comments', 'score']"
   ]
  },
  {
   "cell_type": "code",
   "execution_count": 5,
   "id": "6e6ba61e",
   "metadata": {},
   "outputs": [],
   "source": [
    "# selecting subfields\n",
    "dfa = dfamd[subfields]\n",
    "dfn = dfnvidia[subfields]"
   ]
  },
  {
   "cell_type": "code",
   "execution_count": 6,
   "id": "77be5934",
   "metadata": {},
   "outputs": [
    {
     "name": "stdout",
     "output_type": "stream",
     "text": [
      "amd (10080, 7)\n",
      "nvidia (10090, 7)\n"
     ]
    }
   ],
   "source": [
    "# checking df shape\n",
    "print(\"amd\" , dfa.shape)\n",
    "print(\"nvidia\", dfn.shape)"
   ]
  },
  {
   "cell_type": "code",
   "execution_count": 7,
   "id": "c4351884",
   "metadata": {},
   "outputs": [
    {
     "data": {
      "text/html": [
       "<div>\n",
       "<style scoped>\n",
       "    .dataframe tbody tr th:only-of-type {\n",
       "        vertical-align: middle;\n",
       "    }\n",
       "\n",
       "    .dataframe tbody tr th {\n",
       "        vertical-align: top;\n",
       "    }\n",
       "\n",
       "    .dataframe thead th {\n",
       "        text-align: right;\n",
       "    }\n",
       "</style>\n",
       "<table border=\"1\" class=\"dataframe\">\n",
       "  <thead>\n",
       "    <tr style=\"text-align: right;\">\n",
       "      <th></th>\n",
       "      <th>title</th>\n",
       "      <th>selftext</th>\n",
       "      <th>subreddit</th>\n",
       "      <th>created_utc</th>\n",
       "      <th>author</th>\n",
       "      <th>num_comments</th>\n",
       "      <th>score</th>\n",
       "    </tr>\n",
       "  </thead>\n",
       "  <tbody>\n",
       "    <tr>\n",
       "      <th>0</th>\n",
       "      <td>Finally done!!</td>\n",
       "      <td>NaN</td>\n",
       "      <td>Amd</td>\n",
       "      <td>1624754123</td>\n",
       "      <td>TheHillxer</td>\n",
       "      <td>1</td>\n",
       "      <td>1</td>\n",
       "    </tr>\n",
       "    <tr>\n",
       "      <th>1</th>\n",
       "      <td>Finally done!! 5950x 6900xt</td>\n",
       "      <td>NaN</td>\n",
       "      <td>Amd</td>\n",
       "      <td>1624754677</td>\n",
       "      <td>TheHillxer</td>\n",
       "      <td>15</td>\n",
       "      <td>1</td>\n",
       "    </tr>\n",
       "    <tr>\n",
       "      <th>2</th>\n",
       "      <td>My Vega 64 is stuck in a cycle of NO SIGNAL</td>\n",
       "      <td>Is the card dead? It is no longer under warran...</td>\n",
       "      <td>Amd</td>\n",
       "      <td>1624754751</td>\n",
       "      <td>noobtablet9</td>\n",
       "      <td>2</td>\n",
       "      <td>1</td>\n",
       "    </tr>\n",
       "    <tr>\n",
       "      <th>3</th>\n",
       "      <td>3900x core location on the ccds</td>\n",
       "      <td>NaN</td>\n",
       "      <td>Amd</td>\n",
       "      <td>1624755170</td>\n",
       "      <td>destiny2sk</td>\n",
       "      <td>18</td>\n",
       "      <td>1</td>\n",
       "    </tr>\n",
       "    <tr>\n",
       "      <th>4</th>\n",
       "      <td>ASUS Motherboard ROG STRIX B550-F PBO options ...</td>\n",
       "      <td>**ASUS B550-F BIOS 2403**\\n\\nDoes PBO need to ...</td>\n",
       "      <td>Amd</td>\n",
       "      <td>1624756643</td>\n",
       "      <td>ceetoee</td>\n",
       "      <td>10</td>\n",
       "      <td>1</td>\n",
       "    </tr>\n",
       "  </tbody>\n",
       "</table>\n",
       "</div>"
      ],
      "text/plain": [
       "                                               title  \\\n",
       "0                                     Finally done!!   \n",
       "1                        Finally done!! 5950x 6900xt   \n",
       "2        My Vega 64 is stuck in a cycle of NO SIGNAL   \n",
       "3                    3900x core location on the ccds   \n",
       "4  ASUS Motherboard ROG STRIX B550-F PBO options ...   \n",
       "\n",
       "                                            selftext subreddit  created_utc  \\\n",
       "0                                                NaN       Amd   1624754123   \n",
       "1                                                NaN       Amd   1624754677   \n",
       "2  Is the card dead? It is no longer under warran...       Amd   1624754751   \n",
       "3                                                NaN       Amd   1624755170   \n",
       "4  **ASUS B550-F BIOS 2403**\\n\\nDoes PBO need to ...       Amd   1624756643   \n",
       "\n",
       "        author  num_comments  score  \n",
       "0   TheHillxer             1      1  \n",
       "1   TheHillxer            15      1  \n",
       "2  noobtablet9             2      1  \n",
       "3   destiny2sk            18      1  \n",
       "4      ceetoee            10      1  "
      ]
     },
     "execution_count": 7,
     "metadata": {},
     "output_type": "execute_result"
    }
   ],
   "source": [
    "# checking df content\n",
    "dfa.head()"
   ]
  },
  {
   "cell_type": "markdown",
   "id": "394c564d",
   "metadata": {},
   "source": [
    "#### 4. Checking for Null Values"
   ]
  },
  {
   "cell_type": "code",
   "execution_count": 8,
   "id": "664ba86c",
   "metadata": {},
   "outputs": [
    {
     "data": {
      "text/plain": [
       "selftext        3130\n",
       "title              0\n",
       "subreddit          0\n",
       "created_utc        0\n",
       "author             0\n",
       "num_comments       0\n",
       "score              0\n",
       "dtype: int64"
      ]
     },
     "execution_count": 8,
     "metadata": {},
     "output_type": "execute_result"
    }
   ],
   "source": [
    "# checking for null values in df\n",
    "dfa.isnull().sum().sort_values(ascending = False)"
   ]
  },
  {
   "cell_type": "code",
   "execution_count": 9,
   "id": "5d5672a6",
   "metadata": {},
   "outputs": [
    {
     "data": {
      "text/plain": [
       "selftext        2235\n",
       "title              0\n",
       "subreddit          0\n",
       "created_utc        0\n",
       "author             0\n",
       "num_comments       0\n",
       "score              0\n",
       "dtype: int64"
      ]
     },
     "execution_count": 9,
     "metadata": {},
     "output_type": "execute_result"
    }
   ],
   "source": [
    "# checking for null values in df\n",
    "dfn.isnull().sum().sort_values(ascending = False)"
   ]
  },
  {
   "cell_type": "code",
   "execution_count": 10,
   "id": "3ef7ab90",
   "metadata": {},
   "outputs": [
    {
     "name": "stdout",
     "output_type": "stream",
     "text": [
      "<class 'pandas.core.frame.DataFrame'>\n",
      "RangeIndex: 10080 entries, 0 to 10079\n",
      "Data columns (total 7 columns):\n",
      " #   Column        Non-Null Count  Dtype \n",
      "---  ------        --------------  ----- \n",
      " 0   title         10080 non-null  object\n",
      " 1   selftext      6950 non-null   object\n",
      " 2   subreddit     10080 non-null  object\n",
      " 3   created_utc   10080 non-null  int64 \n",
      " 4   author        10080 non-null  object\n",
      " 5   num_comments  10080 non-null  int64 \n",
      " 6   score         10080 non-null  int64 \n",
      "dtypes: int64(3), object(4)\n",
      "memory usage: 551.4+ KB\n"
     ]
    }
   ],
   "source": [
    "# checking data type in df\n",
    "dfa.info()"
   ]
  },
  {
   "cell_type": "markdown",
   "id": "937bb2c0",
   "metadata": {},
   "source": [
    "#### 5. Removing duplicates from title feature column"
   ]
  },
  {
   "cell_type": "code",
   "execution_count": 11,
   "id": "7b970946",
   "metadata": {},
   "outputs": [
    {
     "name": "stdout",
     "output_type": "stream",
     "text": [
      "amd (7573, 7)\n"
     ]
    }
   ],
   "source": [
    "# dropping duplicates\n",
    "df_a = dfa.drop_duplicates(subset=['title']).copy()\n",
    "print(\"amd\" , df_a.shape)"
   ]
  },
  {
   "cell_type": "markdown",
   "id": "d57b6b08",
   "metadata": {},
   "source": [
    "#### 6. Removing null and deleted content"
   ]
  },
  {
   "cell_type": "code",
   "execution_count": 12,
   "id": "30a86e49",
   "metadata": {},
   "outputs": [
    {
     "data": {
      "text/html": [
       "<div>\n",
       "<style scoped>\n",
       "    .dataframe tbody tr th:only-of-type {\n",
       "        vertical-align: middle;\n",
       "    }\n",
       "\n",
       "    .dataframe tbody tr th {\n",
       "        vertical-align: top;\n",
       "    }\n",
       "\n",
       "    .dataframe thead th {\n",
       "        text-align: right;\n",
       "    }\n",
       "</style>\n",
       "<table border=\"1\" class=\"dataframe\">\n",
       "  <thead>\n",
       "    <tr style=\"text-align: right;\">\n",
       "      <th></th>\n",
       "      <th>title</th>\n",
       "      <th>subreddit</th>\n",
       "      <th>author</th>\n",
       "      <th>num_comments</th>\n",
       "      <th>score</th>\n",
       "      <th>content3</th>\n",
       "    </tr>\n",
       "  </thead>\n",
       "  <tbody>\n",
       "    <tr>\n",
       "      <th>0</th>\n",
       "      <td>Finally done!!</td>\n",
       "      <td>Amd</td>\n",
       "      <td>TheHillxer</td>\n",
       "      <td>1</td>\n",
       "      <td>1</td>\n",
       "      <td></td>\n",
       "    </tr>\n",
       "    <tr>\n",
       "      <th>1</th>\n",
       "      <td>Finally done!! 5950x 6900xt</td>\n",
       "      <td>Amd</td>\n",
       "      <td>TheHillxer</td>\n",
       "      <td>15</td>\n",
       "      <td>1</td>\n",
       "      <td></td>\n",
       "    </tr>\n",
       "    <tr>\n",
       "      <th>2</th>\n",
       "      <td>My Vega 64 is stuck in a cycle of NO SIGNAL</td>\n",
       "      <td>Amd</td>\n",
       "      <td>noobtablet9</td>\n",
       "      <td>2</td>\n",
       "      <td>1</td>\n",
       "      <td>Is the card dead? It is no longer under warran...</td>\n",
       "    </tr>\n",
       "    <tr>\n",
       "      <th>3</th>\n",
       "      <td>3900x core location on the ccds</td>\n",
       "      <td>Amd</td>\n",
       "      <td>destiny2sk</td>\n",
       "      <td>18</td>\n",
       "      <td>1</td>\n",
       "      <td></td>\n",
       "    </tr>\n",
       "    <tr>\n",
       "      <th>4</th>\n",
       "      <td>ASUS Motherboard ROG STRIX B550-F PBO options ...</td>\n",
       "      <td>Amd</td>\n",
       "      <td>ceetoee</td>\n",
       "      <td>10</td>\n",
       "      <td>1</td>\n",
       "      <td>**ASUS B550-F BIOS 2403**\\n\\nDoes PBO need to ...</td>\n",
       "    </tr>\n",
       "    <tr>\n",
       "      <th>5</th>\n",
       "      <td>Have the USB issues been fixed?</td>\n",
       "      <td>Amd</td>\n",
       "      <td>Alivus</td>\n",
       "      <td>0</td>\n",
       "      <td>1</td>\n",
       "      <td></td>\n",
       "    </tr>\n",
       "    <tr>\n",
       "      <th>6</th>\n",
       "      <td>Will the NOCTUA NH-U12S handle the Ryzen 9 5900x?</td>\n",
       "      <td>Amd</td>\n",
       "      <td>jusjohn55</td>\n",
       "      <td>0</td>\n",
       "      <td>1</td>\n",
       "      <td></td>\n",
       "    </tr>\n",
       "    <tr>\n",
       "      <th>7</th>\n",
       "      <td>Help, low 5600X Cinebench score after motherbo...</td>\n",
       "      <td>Amd</td>\n",
       "      <td>SavageSam1234</td>\n",
       "      <td>2</td>\n",
       "      <td>1</td>\n",
       "      <td></td>\n",
       "    </tr>\n",
       "    <tr>\n",
       "      <th>8</th>\n",
       "      <td>21.6.1 AMD Adrenalin won’t open</td>\n",
       "      <td>Amd</td>\n",
       "      <td>Hightowerer</td>\n",
       "      <td>0</td>\n",
       "      <td>1</td>\n",
       "      <td></td>\n",
       "    </tr>\n",
       "    <tr>\n",
       "      <th>9</th>\n",
       "      <td>GIGABYTE X570 AORUS Elite Wi-Fi, is it wifi6 a...</td>\n",
       "      <td>Amd</td>\n",
       "      <td>Orefeus</td>\n",
       "      <td>1</td>\n",
       "      <td>1</td>\n",
       "      <td>Having a hard time find that information</td>\n",
       "    </tr>\n",
       "  </tbody>\n",
       "</table>\n",
       "</div>"
      ],
      "text/plain": [
       "                                               title subreddit         author  \\\n",
       "0                                     Finally done!!       Amd     TheHillxer   \n",
       "1                        Finally done!! 5950x 6900xt       Amd     TheHillxer   \n",
       "2        My Vega 64 is stuck in a cycle of NO SIGNAL       Amd    noobtablet9   \n",
       "3                    3900x core location on the ccds       Amd     destiny2sk   \n",
       "4  ASUS Motherboard ROG STRIX B550-F PBO options ...       Amd        ceetoee   \n",
       "5                    Have the USB issues been fixed?       Amd         Alivus   \n",
       "6  Will the NOCTUA NH-U12S handle the Ryzen 9 5900x?       Amd      jusjohn55   \n",
       "7  Help, low 5600X Cinebench score after motherbo...       Amd  SavageSam1234   \n",
       "8                    21.6.1 AMD Adrenalin won’t open       Amd    Hightowerer   \n",
       "9  GIGABYTE X570 AORUS Elite Wi-Fi, is it wifi6 a...       Amd        Orefeus   \n",
       "\n",
       "   num_comments  score                                           content3  \n",
       "0             1      1                                                     \n",
       "1            15      1                                                     \n",
       "2             2      1  Is the card dead? It is no longer under warran...  \n",
       "3            18      1                                                     \n",
       "4            10      1  **ASUS B550-F BIOS 2403**\\n\\nDoes PBO need to ...  \n",
       "5             0      1                                                     \n",
       "6             0      1                                                     \n",
       "7             2      1                                                     \n",
       "8             0      1                                                     \n",
       "9             1      1           Having a hard time find that information  "
      ]
     },
     "execution_count": 12,
     "metadata": {},
     "output_type": "execute_result"
    }
   ],
   "source": [
    "# removing NaN, [removed] and [deleted] from dataset\n",
    "# cleaning away old columns\n",
    "df_a['selftext'] = df_a['selftext'].astype(str)\n",
    "df_a['content'] = df_a['selftext'].apply(lambda x: x.replace(\"[removed]\", ''))\n",
    "df_a['content2'] = df_a['content'].apply(lambda x: x.replace(\"[deleted]\", ''))\n",
    "df_a['content3'] = df_a['content2'].apply(lambda x: x.replace(\"nan\", ''))\n",
    "df_a.drop(labels=[\"selftext\",\"content\", \"content2\", \"created_utc\"], axis=1, inplace=True)\n",
    "df_a.head(10)"
   ]
  },
  {
   "cell_type": "markdown",
   "id": "e9df8ec2",
   "metadata": {},
   "source": [
    "#### 7. Repeating for 2nd df"
   ]
  },
  {
   "cell_type": "code",
   "execution_count": 13,
   "id": "67867c5b",
   "metadata": {},
   "outputs": [
    {
     "name": "stdout",
     "output_type": "stream",
     "text": [
      "nvidia (9542, 7)\n"
     ]
    }
   ],
   "source": [
    "# dropping duplicates\n",
    "df_n = dfn.drop_duplicates(subset=['title']).copy()\n",
    "print(\"nvidia\" , df_n.shape)"
   ]
  },
  {
   "cell_type": "code",
   "execution_count": 14,
   "id": "45d1f213",
   "metadata": {
    "scrolled": true
   },
   "outputs": [
    {
     "data": {
      "text/html": [
       "<div>\n",
       "<style scoped>\n",
       "    .dataframe tbody tr th:only-of-type {\n",
       "        vertical-align: middle;\n",
       "    }\n",
       "\n",
       "    .dataframe tbody tr th {\n",
       "        vertical-align: top;\n",
       "    }\n",
       "\n",
       "    .dataframe thead th {\n",
       "        text-align: right;\n",
       "    }\n",
       "</style>\n",
       "<table border=\"1\" class=\"dataframe\">\n",
       "  <thead>\n",
       "    <tr style=\"text-align: right;\">\n",
       "      <th></th>\n",
       "      <th>title</th>\n",
       "      <th>subreddit</th>\n",
       "      <th>author</th>\n",
       "      <th>num_comments</th>\n",
       "      <th>score</th>\n",
       "      <th>content3</th>\n",
       "    </tr>\n",
       "  </thead>\n",
       "  <tbody>\n",
       "    <tr>\n",
       "      <th>0</th>\n",
       "      <td>Buzzing sound from 3060 Ti FE</td>\n",
       "      <td>nvidia</td>\n",
       "      <td>snorkles01</td>\n",
       "      <td>0</td>\n",
       "      <td>1</td>\n",
       "      <td>I just got my 3060 Ti FE installed a couple da...</td>\n",
       "    </tr>\n",
       "    <tr>\n",
       "      <th>1</th>\n",
       "      <td>System crash now no video signal from evga 3080</td>\n",
       "      <td>nvidia</td>\n",
       "      <td>dolemite79</td>\n",
       "      <td>4</td>\n",
       "      <td>1</td>\n",
       "      <td>So I've had my 3080 since November, no issues ...</td>\n",
       "    </tr>\n",
       "    <tr>\n",
       "      <th>2</th>\n",
       "      <td>DLSS in Necromunda Hired Gun Image Quality Com...</td>\n",
       "      <td>nvidia</td>\n",
       "      <td>makisekurisudesu</td>\n",
       "      <td>12</td>\n",
       "      <td>1</td>\n",
       "      <td>I think what I want to like the clarity, alias...</td>\n",
       "    </tr>\n",
       "    <tr>\n",
       "      <th>3</th>\n",
       "      <td>How come my cat ears WONT show up on NVIDIA BR...</td>\n",
       "      <td>nvidia</td>\n",
       "      <td>TJOcraft8</td>\n",
       "      <td>5</td>\n",
       "      <td>1</td>\n",
       "      <td>come on man, IM ASKING YOU REDDIT. IM A EMO GO...</td>\n",
       "    </tr>\n",
       "    <tr>\n",
       "      <th>4</th>\n",
       "      <td>Filters arent working</td>\n",
       "      <td>nvidia</td>\n",
       "      <td>FriendleyComdrade</td>\n",
       "      <td>3</td>\n",
       "      <td>1</td>\n",
       "      <td>Every time i open Valorant to add a certain fi...</td>\n",
       "    </tr>\n",
       "    <tr>\n",
       "      <th>5</th>\n",
       "      <td>is nvidia broadcast the best ai green screen r...</td>\n",
       "      <td>nvidia</td>\n",
       "      <td>TJOcraft8</td>\n",
       "      <td>1</td>\n",
       "      <td>1</td>\n",
       "      <td>just wondering</td>\n",
       "    </tr>\n",
       "    <tr>\n",
       "      <th>6</th>\n",
       "      <td>GTX 400/500/600 are not W11 \"safe\"</td>\n",
       "      <td>nvidia</td>\n",
       "      <td>man_in__the_mirra</td>\n",
       "      <td>0</td>\n",
       "      <td>1</td>\n",
       "      <td>The other post mentioned that it was tesla era...</td>\n",
       "    </tr>\n",
       "    <tr>\n",
       "      <th>7</th>\n",
       "      <td>Low GPU usage CS GO</td>\n",
       "      <td>nvidia</td>\n",
       "      <td>maddyy1991</td>\n",
       "      <td>4</td>\n",
       "      <td>1</td>\n",
       "      <td>I have legion Y540 laptop - i5 9th gen, RAM 8g...</td>\n",
       "    </tr>\n",
       "    <tr>\n",
       "      <th>8</th>\n",
       "      <td>GTX 1080 with two monitors, one won't go to st...</td>\n",
       "      <td>nvidia</td>\n",
       "      <td>ima420r</td>\n",
       "      <td>0</td>\n",
       "      <td>1</td>\n",
       "      <td>I have a GTX 1080 with 2 monitors and a TV plu...</td>\n",
       "    </tr>\n",
       "    <tr>\n",
       "      <th>9</th>\n",
       "      <td>My 3080FE seems to be running absurdly hot. An...</td>\n",
       "      <td>nvidia</td>\n",
       "      <td>MisterLaz</td>\n",
       "      <td>22</td>\n",
       "      <td>1</td>\n",
       "      <td>Hey all, I have a 3080FE card and it seems to ...</td>\n",
       "    </tr>\n",
       "  </tbody>\n",
       "</table>\n",
       "</div>"
      ],
      "text/plain": [
       "                                               title subreddit  \\\n",
       "0                      Buzzing sound from 3060 Ti FE    nvidia   \n",
       "1    System crash now no video signal from evga 3080    nvidia   \n",
       "2  DLSS in Necromunda Hired Gun Image Quality Com...    nvidia   \n",
       "3  How come my cat ears WONT show up on NVIDIA BR...    nvidia   \n",
       "4                              Filters arent working    nvidia   \n",
       "5  is nvidia broadcast the best ai green screen r...    nvidia   \n",
       "6                 GTX 400/500/600 are not W11 \"safe\"    nvidia   \n",
       "7                                Low GPU usage CS GO    nvidia   \n",
       "8  GTX 1080 with two monitors, one won't go to st...    nvidia   \n",
       "9  My 3080FE seems to be running absurdly hot. An...    nvidia   \n",
       "\n",
       "              author  num_comments  score  \\\n",
       "0         snorkles01             0      1   \n",
       "1         dolemite79             4      1   \n",
       "2   makisekurisudesu            12      1   \n",
       "3          TJOcraft8             5      1   \n",
       "4  FriendleyComdrade             3      1   \n",
       "5          TJOcraft8             1      1   \n",
       "6  man_in__the_mirra             0      1   \n",
       "7         maddyy1991             4      1   \n",
       "8            ima420r             0      1   \n",
       "9          MisterLaz            22      1   \n",
       "\n",
       "                                            content3  \n",
       "0  I just got my 3060 Ti FE installed a couple da...  \n",
       "1  So I've had my 3080 since November, no issues ...  \n",
       "2  I think what I want to like the clarity, alias...  \n",
       "3  come on man, IM ASKING YOU REDDIT. IM A EMO GO...  \n",
       "4  Every time i open Valorant to add a certain fi...  \n",
       "5                                     just wondering  \n",
       "6  The other post mentioned that it was tesla era...  \n",
       "7  I have legion Y540 laptop - i5 9th gen, RAM 8g...  \n",
       "8  I have a GTX 1080 with 2 monitors and a TV plu...  \n",
       "9  Hey all, I have a 3080FE card and it seems to ...  "
      ]
     },
     "execution_count": 14,
     "metadata": {},
     "output_type": "execute_result"
    }
   ],
   "source": [
    "# remocing NaN, [removed], [deleted] content and removing old columns\n",
    "df_n['selftext'] = df_n['selftext'].astype(str)\n",
    "df_n['content'] = df_n['selftext'].apply(lambda x: x.replace(\"[removed]\", ''))\n",
    "df_n['content2'] = df_n['content'].apply(lambda x: x.replace(\"[deleted]\", ''))\n",
    "df_n['content3'] = df_n['content2'].apply(lambda x: x.replace(\"nan\", ''))\n",
    "df_n.drop(labels=[\"selftext\",\"content\", \"content2\", \"created_utc\"], axis=1, inplace=True)\n",
    "df_n.head(10)"
   ]
  },
  {
   "cell_type": "code",
   "execution_count": 15,
   "id": "c9fddd31",
   "metadata": {},
   "outputs": [
    {
     "data": {
      "text/plain": [
       "(9542, 6)"
      ]
     },
     "execution_count": 15,
     "metadata": {},
     "output_type": "execute_result"
    }
   ],
   "source": [
    "# checking df shape after cleaning\n",
    "df_n.shape"
   ]
  },
  {
   "cell_type": "code",
   "execution_count": 16,
   "id": "9775f246",
   "metadata": {},
   "outputs": [
    {
     "data": {
      "text/plain": [
       "(7573, 6)"
      ]
     },
     "execution_count": 16,
     "metadata": {},
     "output_type": "execute_result"
    }
   ],
   "source": [
    "# checking df shape after cleaning\n",
    "df_a.shape"
   ]
  },
  {
   "cell_type": "markdown",
   "id": "0fe30cab",
   "metadata": {},
   "source": [
    "### Feature Engineering"
   ]
  },
  {
   "cell_type": "markdown",
   "id": "1a07704f",
   "metadata": {},
   "source": [
    "#### 8. Combining title and content into a new column that can be vectorized later"
   ]
  },
  {
   "cell_type": "code",
   "execution_count": 17,
   "id": "4543d62a",
   "metadata": {},
   "outputs": [],
   "source": [
    "# creating a new feature which combines title and content\n",
    "df_a['combined'] = df_a['title'] + df_a['content3']\n",
    "df_n['combined'] = df_n['title'] + df_n['content3']"
   ]
  },
  {
   "cell_type": "code",
   "execution_count": 18,
   "id": "08dd08a7",
   "metadata": {},
   "outputs": [],
   "source": [
    "# dropping content3 as it is no longer required\n",
    "df_a.drop(labels=[\"title\",\"content3\"], axis=1, inplace=True)\n",
    "df_n.drop(labels=[\"title\",\"content3\"], axis=1, inplace=True)"
   ]
  },
  {
   "cell_type": "code",
   "execution_count": 19,
   "id": "def51186",
   "metadata": {},
   "outputs": [
    {
     "data": {
      "text/html": [
       "<div>\n",
       "<style scoped>\n",
       "    .dataframe tbody tr th:only-of-type {\n",
       "        vertical-align: middle;\n",
       "    }\n",
       "\n",
       "    .dataframe tbody tr th {\n",
       "        vertical-align: top;\n",
       "    }\n",
       "\n",
       "    .dataframe thead th {\n",
       "        text-align: right;\n",
       "    }\n",
       "</style>\n",
       "<table border=\"1\" class=\"dataframe\">\n",
       "  <thead>\n",
       "    <tr style=\"text-align: right;\">\n",
       "      <th></th>\n",
       "      <th>subreddit</th>\n",
       "      <th>author</th>\n",
       "      <th>num_comments</th>\n",
       "      <th>score</th>\n",
       "      <th>combined</th>\n",
       "    </tr>\n",
       "  </thead>\n",
       "  <tbody>\n",
       "    <tr>\n",
       "      <th>0</th>\n",
       "      <td>Amd</td>\n",
       "      <td>TheHillxer</td>\n",
       "      <td>1</td>\n",
       "      <td>1</td>\n",
       "      <td>Finally done!!</td>\n",
       "    </tr>\n",
       "    <tr>\n",
       "      <th>1</th>\n",
       "      <td>Amd</td>\n",
       "      <td>TheHillxer</td>\n",
       "      <td>15</td>\n",
       "      <td>1</td>\n",
       "      <td>Finally done!! 5950x 6900xt</td>\n",
       "    </tr>\n",
       "    <tr>\n",
       "      <th>2</th>\n",
       "      <td>Amd</td>\n",
       "      <td>noobtablet9</td>\n",
       "      <td>2</td>\n",
       "      <td>1</td>\n",
       "      <td>My Vega 64 is stuck in a cycle of NO SIGNALIs ...</td>\n",
       "    </tr>\n",
       "    <tr>\n",
       "      <th>3</th>\n",
       "      <td>Amd</td>\n",
       "      <td>destiny2sk</td>\n",
       "      <td>18</td>\n",
       "      <td>1</td>\n",
       "      <td>3900x core location on the ccds</td>\n",
       "    </tr>\n",
       "    <tr>\n",
       "      <th>4</th>\n",
       "      <td>Amd</td>\n",
       "      <td>ceetoee</td>\n",
       "      <td>10</td>\n",
       "      <td>1</td>\n",
       "      <td>ASUS Motherboard ROG STRIX B550-F PBO options ...</td>\n",
       "    </tr>\n",
       "  </tbody>\n",
       "</table>\n",
       "</div>"
      ],
      "text/plain": [
       "  subreddit       author  num_comments  score  \\\n",
       "0       Amd   TheHillxer             1      1   \n",
       "1       Amd   TheHillxer            15      1   \n",
       "2       Amd  noobtablet9             2      1   \n",
       "3       Amd   destiny2sk            18      1   \n",
       "4       Amd      ceetoee            10      1   \n",
       "\n",
       "                                            combined  \n",
       "0                                     Finally done!!  \n",
       "1                        Finally done!! 5950x 6900xt  \n",
       "2  My Vega 64 is stuck in a cycle of NO SIGNALIs ...  \n",
       "3                    3900x core location on the ccds  \n",
       "4  ASUS Motherboard ROG STRIX B550-F PBO options ...  "
      ]
     },
     "execution_count": 19,
     "metadata": {},
     "output_type": "execute_result"
    }
   ],
   "source": [
    "# checking of df\n",
    "df_a.head()"
   ]
  },
  {
   "cell_type": "code",
   "execution_count": 20,
   "id": "6cf988d2",
   "metadata": {},
   "outputs": [
    {
     "data": {
      "text/html": [
       "<div>\n",
       "<style scoped>\n",
       "    .dataframe tbody tr th:only-of-type {\n",
       "        vertical-align: middle;\n",
       "    }\n",
       "\n",
       "    .dataframe tbody tr th {\n",
       "        vertical-align: top;\n",
       "    }\n",
       "\n",
       "    .dataframe thead th {\n",
       "        text-align: right;\n",
       "    }\n",
       "</style>\n",
       "<table border=\"1\" class=\"dataframe\">\n",
       "  <thead>\n",
       "    <tr style=\"text-align: right;\">\n",
       "      <th></th>\n",
       "      <th>subreddit</th>\n",
       "      <th>author</th>\n",
       "      <th>num_comments</th>\n",
       "      <th>score</th>\n",
       "      <th>combined</th>\n",
       "    </tr>\n",
       "  </thead>\n",
       "  <tbody>\n",
       "    <tr>\n",
       "      <th>0</th>\n",
       "      <td>nvidia</td>\n",
       "      <td>snorkles01</td>\n",
       "      <td>0</td>\n",
       "      <td>1</td>\n",
       "      <td>Buzzing sound from 3060 Ti FEI just got my 306...</td>\n",
       "    </tr>\n",
       "    <tr>\n",
       "      <th>1</th>\n",
       "      <td>nvidia</td>\n",
       "      <td>dolemite79</td>\n",
       "      <td>4</td>\n",
       "      <td>1</td>\n",
       "      <td>System crash now no video signal from evga 308...</td>\n",
       "    </tr>\n",
       "    <tr>\n",
       "      <th>2</th>\n",
       "      <td>nvidia</td>\n",
       "      <td>makisekurisudesu</td>\n",
       "      <td>12</td>\n",
       "      <td>1</td>\n",
       "      <td>DLSS in Necromunda Hired Gun Image Quality Com...</td>\n",
       "    </tr>\n",
       "    <tr>\n",
       "      <th>3</th>\n",
       "      <td>nvidia</td>\n",
       "      <td>TJOcraft8</td>\n",
       "      <td>5</td>\n",
       "      <td>1</td>\n",
       "      <td>How come my cat ears WONT show up on NVIDIA BR...</td>\n",
       "    </tr>\n",
       "    <tr>\n",
       "      <th>4</th>\n",
       "      <td>nvidia</td>\n",
       "      <td>FriendleyComdrade</td>\n",
       "      <td>3</td>\n",
       "      <td>1</td>\n",
       "      <td>Filters arent workingEvery time i open Valoran...</td>\n",
       "    </tr>\n",
       "  </tbody>\n",
       "</table>\n",
       "</div>"
      ],
      "text/plain": [
       "  subreddit             author  num_comments  score  \\\n",
       "0    nvidia         snorkles01             0      1   \n",
       "1    nvidia         dolemite79             4      1   \n",
       "2    nvidia   makisekurisudesu            12      1   \n",
       "3    nvidia          TJOcraft8             5      1   \n",
       "4    nvidia  FriendleyComdrade             3      1   \n",
       "\n",
       "                                            combined  \n",
       "0  Buzzing sound from 3060 Ti FEI just got my 306...  \n",
       "1  System crash now no video signal from evga 308...  \n",
       "2  DLSS in Necromunda Hired Gun Image Quality Com...  \n",
       "3  How come my cat ears WONT show up on NVIDIA BR...  \n",
       "4  Filters arent workingEvery time i open Valoran...  "
      ]
     },
     "execution_count": 20,
     "metadata": {},
     "output_type": "execute_result"
    }
   ],
   "source": [
    "# checking of df\n",
    "df_n.head()"
   ]
  },
  {
   "cell_type": "markdown",
   "id": "7052ee71",
   "metadata": {},
   "source": [
    "#### 9. Saving to CSV for NLP and EDA later"
   ]
  },
  {
   "cell_type": "code",
   "execution_count": 21,
   "id": "6739eca6",
   "metadata": {},
   "outputs": [],
   "source": [
    "#saving to csv\n",
    "df_a.to_csv('../data/amd_cleaned.csv', index=False)\n",
    "df_n.to_csv('../data/nvidia_cleaned.csv', index=False)"
   ]
  }
 ],
 "metadata": {
  "kernelspec": {
   "display_name": "Python 3",
   "language": "python",
   "name": "python3"
  },
  "language_info": {
   "codemirror_mode": {
    "name": "ipython",
    "version": 3
   },
   "file_extension": ".py",
   "mimetype": "text/x-python",
   "name": "python",
   "nbconvert_exporter": "python",
   "pygments_lexer": "ipython3",
   "version": "3.8.8"
  }
 },
 "nbformat": 4,
 "nbformat_minor": 5
}
